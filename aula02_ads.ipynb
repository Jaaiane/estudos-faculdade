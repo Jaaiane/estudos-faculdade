{
  "nbformat": 4,
  "nbformat_minor": 0,
  "metadata": {
    "colab": {
      "provenance": []
    },
    "kernelspec": {
      "name": "python3",
      "display_name": "Python 3"
    },
    "language_info": {
      "name": "python"
    }
  },
  "cells": [
    {
      "cell_type": "code",
      "execution_count": 3,
      "metadata": {
        "colab": {
          "base_uri": "https://localhost:8080/"
        },
        "id": "eVCu2gtgdZja",
        "outputId": "be9027a5-4f23-49ee-9c7f-2a91e6136f66"
      },
      "outputs": [
        {
          "output_type": "stream",
          "name": "stdout",
          "text": [
            "<class 'int'>\n"
          ]
        }
      ],
      "source": [
        "# UNINASSAU\n",
        "# DOCENTE: CLOVES ROCHA\n",
        "# ESTUDANTE: JAIANE PEREIRA\n",
        "# TIPOS PRIMITIVOS DE DADOS\n",
        "\n",
        "# print ('Hello Word!')\n",
        "\n",
        "c = 10\n",
        "print(type (c))\n",
        "\n",
        "\n"
      ]
    }
  ]
}